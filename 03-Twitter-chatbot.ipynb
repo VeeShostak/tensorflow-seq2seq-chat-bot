{
 "cells": [
  {
   "cell_type": "markdown",
   "metadata": {},
   "source": [
    "# Demonstrate Seq2Seq Wrapper with twitter chat log"
   ]
  },
  {
   "cell_type": "code",
   "execution_count": 19,
   "metadata": {},
   "outputs": [],
   "source": [
    "import tensorflow as tf\n",
    "import numpy as np\n",
    "\n",
    "# preprocessed data\n",
    "from datasets.twitter import data\n",
    "import data_utils"
   ]
  },
  {
   "cell_type": "code",
   "execution_count": 20,
   "metadata": {},
   "outputs": [],
   "source": [
    "# load data from pickle and npy files\n",
    "metadata, idx_q, idx_a = data.load_data(PATH='datasets/twitter/')\n",
    "(trainX, trainY), (testX, testY), (validX, validY) = data_utils.split_dataset(idx_q, idx_a)"
   ]
  },
  {
   "cell_type": "code",
   "execution_count": 21,
   "metadata": {},
   "outputs": [],
   "source": [
    "# parameters \n",
    "xseq_len = trainX.shape[-1]\n",
    "yseq_len = trainY.shape[-1]\n",
    "batch_size = 16\n",
    "xvocab_size = len(metadata['idx2w'])  \n",
    "yvocab_size = xvocab_size\n",
    "emb_dim = 1024"
   ]
  },
  {
   "cell_type": "code",
   "execution_count": 22,
   "metadata": {},
   "outputs": [],
   "source": [
    "import seq2seq_wrapper"
   ]
  },
  {
   "cell_type": "code",
   "execution_count": 23,
   "metadata": {},
   "outputs": [
    {
     "data": {
      "text/plain": [
       "<module 'seq2seq_wrapper' from '/Users/vladshostak/Desktop/tf-v1-venv/practical_seq2seq-master/seq2seq_wrapper.py'>"
      ]
     },
     "execution_count": 23,
     "metadata": {},
     "output_type": "execute_result"
    }
   ],
   "source": [
    "import importlib\n",
    "importlib.reload(seq2seq_wrapper)"
   ]
  },
  {
   "cell_type": "code",
   "execution_count": 24,
   "metadata": {},
   "outputs": [
    {
     "name": "stdout",
     "output_type": "stream",
     "text": [
      "<log> Started Building Graph... COMPLETE </log>"
     ]
    }
   ],
   "source": [
    "model = seq2seq_wrapper.Seq2Seq(xseq_len=xseq_len,\n",
    "                               yseq_len=yseq_len,\n",
    "                               xvocab_size=xvocab_size,\n",
    "                               yvocab_size=yvocab_size,\n",
    "                               ckpt_path='ckpt/twitter/',\n",
    "                               emb_dim=emb_dim,\n",
    "                               num_layers=3\n",
    "                               )"
   ]
  },
  {
   "cell_type": "code",
   "execution_count": 25,
   "metadata": {},
   "outputs": [],
   "source": [
    "val_batch_gen = data_utils.rand_batch_gen(validX, validY, 256)\n",
    "test_batch_gen = data_utils.rand_batch_gen(testX, testY, 256)\n",
    "train_batch_gen = data_utils.rand_batch_gen(trainX, trainY, batch_size)"
   ]
  },
  {
   "cell_type": "code",
   "execution_count": 119,
   "metadata": {},
   "outputs": [
    {
     "name": "stdout",
     "output_type": "stream",
     "text": [
      "\n",
      "<log> Training started </log>\n"
     ]
    }
   ],
   "source": [
    "sess = model.train(train_batch_gen, val_batch_gen)"
   ]
  },
  {
   "cell_type": "code",
   "execution_count": 26,
   "metadata": {},
   "outputs": [
    {
     "name": "stdout",
     "output_type": "stream",
     "text": [
      "\n"
     ]
    }
   ],
   "source": [
    "sess = model.restore_last_session()"
   ]
  },
  {
   "cell_type": "code",
   "execution_count": 27,
   "metadata": {},
   "outputs": [
    {
     "name": "stdout",
     "output_type": "stream",
     "text": [
      "(256, 20)\n"
     ]
    }
   ],
   "source": [
    "input_ = test_batch_gen.__next__()[0]\n",
    "output = model.predict(sess, input_)\n",
    "print(output.shape)"
   ]
  },
  {
   "cell_type": "code",
   "execution_count": 28,
   "metadata": {},
   "outputs": [
    {
     "name": "stdout",
     "output_type": "stream",
     "text": [
      "q : [lol tomorrow but i will read]; a : [let me know if you can get a chance to be a good person to do]\n",
      "q : [but i hate meetings ]; a : [they dont even know what to say]\n",
      "q : [can we just move trump to mars]; a : [if you can get a good time]\n",
      "q : [is that a unk for your penis jeff for you must be warned that some of us might like that]; a : [i dont know that but i am not sure about it]\n",
      "q : [i think should promote s more its crucial voters know both sides before voting in november]; a : [is the truth in the debate and trump is a liar for humanity]\n",
      "q : [the answer that best unk how badly trump was out of his depth in the debate]; a : [the only thing is a joke of the debate]\n",
      "q : [yeah shes from unk unk]; a : [hes not a fan of the guy]\n",
      "q : [i was up here really trynna use my context unk to find out what department he was talking about]; a : [i dont think the same thing was that i just have to be able to be a fan]\n",
      "q : [trump still won the vast majority of the polls and the cnn poll was rigged]; a : [ trump are a trump supporter who cares about the truth]\n",
      "q : [at the unk in pretty awesome exhibit of up and coming robots and]; a : [ i have to see this]\n",
      "q : [raw video of s 90s presser making work out to keep her miss universe crown]; a : [she was a beautiful woman]\n",
      "q : [i havent watched ill check it out]; a : [i thought it was a lot of people who have a good job]\n",
      "q : [streaming unk]; a : [my favorite is so cute]\n",
      "q : [no way i like the egg]; a : [the world is the best thing to be in the world]\n",
      "q : [can i please please have children that look like unk unk christ ]; a : [i think you were a fan of the same ones i have to see it]\n",
      "q : [my replies have been better but youve never retweeted me whats the difference between her oh never mind]; a : [my mom is a lot of the best things]\n",
      "q : [wait whos saying this anyone unk]; a : [what a joke]\n",
      "q : [thats my opinion she was amazing and i dont think it will move the needle]; a : [i dont think so because she was born in the middle of the debate]\n",
      "q : [its annoying especially when they never text me back except when theyre drinking]; a : [lol i dont know what you mean]\n",
      "q : [im laughing just as hard reading these now as i did when i first read them]; a : [me i just got it too much too much to get the same time]\n",
      "q : [yo i think he did my unk stuff when we moved into the place we are now]; a : [the only way to the end of the end of the day]\n",
      "q : [we will find when i arrive]; a : [im not sure if you can get a chance to get a good time to get back on the future]\n",
      "q : [donald trump won last nights presidential debate according to snap online polls]; a : [thought he was a joke]\n",
      "q : [but all the baby ones are so cute]; a : [thank you so much ]\n",
      "q : [well you did win the people said so]; a : [yes i am not wondering what the hell is]\n",
      "q : [dude what]; a : [i think i was just thinking about it]\n",
      "q : [i would say i cant believe youre spinning something obviously false but of course i can believe it]; a : [i think its a good idea]\n",
      "q : [morning harry have a great day my friend]; a : [you too have a great day]\n",
      "q : [you cannot escape the responsibility of tomorrow by unk it today unk lincoln]; a : [can you be a good one]\n",
      "q : [hi im unk and i lose my things unk]; a : [when u doing]\n",
      "q : [unk just called my house telling me to study for tomorrows test]; a : [ill be there for a while i can get a ticket for my life]\n",
      "q : [im eating a unk rn]; a : [i just got to get a ticket for my life]\n",
      "q : [how do you feel about that]; a : [i was thinking about it]\n",
      "q : [proud of my babies ]; a : [looks like it was a great day]\n",
      "q : [and guess who on fox thought the moderator was fair unk kelly big surprise]; a : [i think he was a lot of the debate]\n",
      "q : [our president doesnt pick a side when it comes to the national anthem good to know]; a : [the media is not a liar]\n",
      "q : [i literally just got a text back i am too much of a unk]; a : [you know i was just thinking about it too ]\n",
      "q : [what were his exact words he was asked if he knew what consent was re sex amp he didnt know]; a : [and the problem and is the truth of the truth]\n",
      "q : [he was horrible she was powerful strong and informed i just cant decide lord deliver us from undecideds]; a : [yep is a lot of people who would have been able to be president with him]\n",
      "q : [lmfaooooo miss you drew ]; a : [i miss you too ]\n",
      "q : [donald supported the invasion of iraq  clinton wrong  trump nah shes right youre wrong  facts]; a : [ she has been a pathological liar and a woman who has a better job]\n",
      "q : [unk report medical miracle she stands for 90 minutes]; a : [she is a thief]\n",
      "q : [monday nights unk matchup was the most tweeted debate ever according to twitter]; a : [is a joke]\n",
      "q : [people would be more likely to believe you if you didnt support known unk and beta male]; a : [this is a fact that is a fact]\n",
      "q : [and if they dont like it then dont even bother putting one picture of me in the unk]; a : [dont think they have a better choice of the world]\n",
      "q : [its sexual unk and still a physical action]; a : [cough is that]\n",
      "q : [shall do youve been pretty awesome help with this so far]; a : [so many of the best people]\n",
      "q : [do your sit ups and push ups and maybe youll get one]; a : [the best one]\n",
      "q : [you should ask the same ]; a : [you are not right]\n",
      "q : [unk  im so serious he just texted me too]; a : [lol i know right]\n",
      "q : [that debate was something else what did yall think]; a : [he was a lot of people in the middle of the world]\n",
      "q : [thanks to for making the unk bday lunch a success]; a : [welcome to you and your family]\n",
      "q : [santa unk mood]; a : [this is my favorite game of my life]\n",
      "q : [i just signed on to twitter due to this event excited to be part of the twitter community]; a : [cant wait to see you there ]\n",
      "q : [we knew this was the reason all along  destroy syria for israel taken down fast]; a : [ ]\n",
      "q : [so mad i didnt go to unk once this summer]; a : [i dont think i was going to be a fan of the world]\n",
      "q : [if unk is early access amp 930 is general public for unk whats the members pre sale date please help]; a : [is this a thing]\n",
      "q : [unk way to put it]; a : [great job and the best part of the world]\n",
      "q : [ima write michelle obama on my ballot]; a : [she is a good one]\n",
      "q : [i fuck with people who dont fuck with people]; a : [dont even be a joke but its a joke]\n",
      "q : [if you would like to grow your business quickly then this will help you free from twitter]; a : [ you can be a muslim president for the country]\n",
      "q : [yo this shit was the most fire lunch in high school]; a : [did you get this in the past]\n",
      "q : [thats the last straw im fucking gay now]; a : [did he say he was a big qb to get a shot]\n",
      "q : [youre missing the point completely  racial unk worse than past 50 years murders unk]; a : [what do you think that]\n",
      "q : [recruiting is nothing more than a unk of performance from clear company i like that]; a : [agreed for the link]\n",
      "q : [i love you]; a : [love you too]\n",
      "q : [too bad this clip had to stop]; a : [this is a good thing to me]\n",
      "q : [that should be illegal ]; a : [yup is a joke]\n",
      "q : [i bought something on amazon of limited unk once and they sold to many and cancelled my preorder]; a : [wow this is so cool]\n",
      "q : [yea wow a bunch of idiots]; a : [was that a joke]\n",
      "q : [lets remove it then and say that you will definitely get one ]; a : [ we have to be a good one of the debate]\n",
      "q : [43 days left lets go win this thing]; a : [hillary you are a liar]\n",
      "q : [what points]; a : [the whole season is the worst]\n",
      "q : [what if i want to fuck my big]; a : [you are a good friend]\n",
      "q : [thought u was from here]; a : [he was a joke]\n",
      "q : [happy birthday to a real gem  ]; a : [thank you ]\n",
      "q : [its time to get registered california unk w to bring you]; a : [ill be there]\n",
      "q : [unk unk to me this year]; a : [not not even the same thing]\n",
      "q : [so then the question is simple is it bad or good or neither if us companies invest in iraq]; a : [its a good thing to be a good job]\n",
      "q : [they shouldnt be safe they should be heroes]; a : [do you have to be a racist and a woman who would be a muslim]\n",
      "q : [at least no one could ever say i dont have a personality]; a : [what is the truth]\n",
      "q : [these were good tweets then and theyre still good now i guess what im saying is a good retweets ]; a : [the whole thing is that i thought it was a lot of people who have a good job]\n",
      "q : [i think that i am more competent than trump and i hate politics]; a : [you dont care about the debate of the debate]\n",
      "q : [how to solve your biggest challenges with]; a : [the only one is in the city]\n",
      "q : [yes because thats what full season unk is]; a : [the whole thing is the worst thing ive ever seen]\n",
      "q : [really good lord someone call the fire department]; a : [yup not a fan of the internet]\n",
      "q : [rt for luck ignore to never hit again]; a : [yo where is this]\n",
      "q : [unk u all]; a : [i know you were a fan of the moon]\n",
      "q : [you make me proud]; a : [i dont know what you want to do with you ]\n",
      "q : [unk unk at is following us now thanks for the follow]; a : [the pleasure of the world is amazing]\n",
      "q : [if my doctor dont clear me then im straight unk his ass]; a : [you are a moron]\n",
      "q : [again i am trying to understand others people just continue 2 attack not my problem]; a : [you can use a chance to be a child of the country]\n",
      "q : [why do dogs chase their unk]; a : [hes a joke]\n",
      "q : [wait how so whats going down]; a : [just in the city]\n",
      "q : [im a returning member of that club]; a : [i feel like you were a fan of the game]\n",
      "q : [unk im glad i can be an unk to you people ]; a : [so much i love this picture]\n",
      "q : [he did nothing as an activist in unk as senator and destroyed the middle class as unk of disgrace]; a : [oh yes i am not wondering what the hell is that]\n",
      "q : [damn that founders  unk unk maker sure sounds tasty]; a : [im gonna be a little fan ]\n",
      "q : [unk just told me he has never seen it so now we are watching unk vs jason]; a : [maybe they can have a chance]\n",
      "q : [more a desert than a coffee if you ask me]; a : [you need to be a good one of my life]\n",
      "q : [30 years as a public unk and you put career in quotes and nothing but lies thats ridiculous girl bye]; a : [this is why i was thinking of the debate that was a joke]\n",
      "q : [i eat eggs unk in]; a : [i have to buy the game in the middle of the first time]\n",
      "q : [i met some very tall dogs the other day ]; a : [is that the best]\n",
      "q : [so apparently people dont pump their own gas in nj im so confused]; a : [its not a good thing i dont know how to do it]\n",
      "q : [i need about unk chicks that can shake their ass its urgent]; a : [you need to get a new phone]\n",
      "q : [no they are obviously unk and fight with metal unk]; a : [yeah i know right but i dont know what he was talking about]\n",
      "q : [is a unk  for his own interests didnt you hear him brag about that]; a : [he had a lot of balls in the middle of the middle weeks of the world]\n",
      "q : [i mean at lot of people did half time for a while then walked away not officially unk anything]; a : [this is so good i dont even know how to do it]\n",
      "q : [thanks to the for having unk wait to help the get to the playoffs]; a : [great article to you thanks for the heads up]\n",
      "q : [guys season 1 one tree hill finale is pretty wild like what insane unk unk]; a : [this is so fucking good]\n",
      "q : [innovation  unk  standard  great success read chair blog on fast unk process]; a : [ we love you guys have a great day]\n",
      "q : [ thank you for unk our girl and make her look perfectly unk ]; a : [youre so welcome ]\n",
      "q : [i know youre on unk band but will you play for his studio albums]; a : [ok i just got to watch the game]\n",
      "q : [hillary clinton and allies have received almost 100 million in campaign contributions from wall street in this cycle alone]; a : [how about the media movement to the debate of the debate]\n",
      "q : [if u ate me out on my period keep it cute at all times  dont ever play yourself lmao]; a : [i dont know what you mean]\n",
      "q : [yo beans is unk meek out but quiet with unk pay attention]; a : [yo that shit was so fucking good]\n",
      "q : [im so unk i came all the way to unk ]; a : [i know i know]\n",
      "q : [i just found out its my dogs birthday i feel terrible i didnt get him anything ]; a : [my mom is so cute]\n",
      "q : [why is this even a topic of discussion  private citizen vs senator who voted on it]; a : [is the federal court record]\n",
      "q : [trumps 2 responses to not paying taxes 1 that makes me smart 2 it would be unk too believe me]; a : [that was a joke]\n",
      "q : [hi my name is bruce and i like pumpkin spice unk]; a : [how is this is your favorite tweet]\n",
      "q : [coach unk cant continue with the unk have been a hard fight camp conditioning tonight]; a : [ and the best thing ever]\n",
      "q : [national postdebate poll unk clinton 45 4 trump 41 a 2 shift toward clinton in 3 days]; a : [how about the debate]\n",
      "q : [trump is right that was largely destroyed as a result of clintons actions]; a : [and trump supporters is a joke]\n",
      "q : [jk ily nicole]; a : [have a great day ]\n",
      "q : [imagine theres no twitter]; a : [they are a fan of the game]\n",
      "q : [today i got called white i almost unk the fuck up i made it]; a : [they aint the same one]\n",
      "q : [has unk me on ever game bc shes a sore loser ]; a : [because she is a lot of people who are]\n",
      "q : [forgot to give a unk shoutout to unk happy belated birthday]; a : [thats a great guy]\n",
      "q : [unk unk cold music starts playing]; a : [he was a good one of the game]\n",
      "q : [hes also questioning her policy no he seems to want her to jack up rates]; a : [because he has a chance to get a wall of her]\n",
      "q : [lmao rt  when its but you stay cool]; a : [the whole day is so good]\n",
      "q : [whats up with raised fist but represents racist franchise]; a : [did she even know that]\n",
      "q : [why does everyone on my floor listen to hard rap]; a : [because he was a joke]\n",
      "q : [cause thick unk save lives]; a : [maybe they have to be careful]\n",
      "q : [hey you guys can you like call me please]; a : [you know what you want]\n",
      "q : [your bullpen is really bad i feel bad for the giants fans]; a : [dont worry about it]\n",
      "q : [how much u wanna bet she gets in a unk]; a : [i dont know what i was talking about]\n",
      "q : [so i officially have my own company and i wont launch for a while but i made a for ]; a : [what a cute photo of you]\n",
      "q : [were all here for you to help you push through youre so much stronger than you know]; a : [ah i am just messing on the street]\n",
      "q : [i didnt think you were dumb enough to support him without getting paid  but ok ]; a : [i was thinking about it but i was just thinking about it]\n",
      "q : [it might if youre sending it to unk]; a : [whats a little]\n",
      "q : [still on a high from last nights show at  wow wow wow ]; a : [is this a thing of the moment of the end of the year]\n",
      "q : [stay tuned because its almost time for unk]; a : [lol i need to get a new phone]\n",
      "q : [were dating im unk]; a : [i dont know what to do]\n",
      "q : [i caught it cause i was deeply looking for her ]; a : [haha i was just messing at the same time i was just thinking about it ]\n",
      "q : [dude block that fool and quit unk]; a : [thats what he said]\n",
      "q : [this unk is a little off too but i cannot unk a percentage ]; a : [omg thats that a thing]\n",
      "q : [use the basketball unk from like 2012 and launch him into space]; a : [this is a good thing]\n",
      "q : [ helps unk s birtherism under the unk]; a : [her photo is a real woman]\n",
      "q : [last time i checked you had less than 1 polling so please just go away nut job]; a : [and are the worst of the best people ever have a good job]\n",
      "q : [well there you have it you saw my unk full scale score im an idiot]; a : [you have a good idea to do it]\n",
      "q : [next up with a european take on us leadership]; a : [ is a great place]\n",
      "q : [did you mean to send this out unk in the last few days]; a : [not even be a fan of the game]\n",
      "q : [hi unk we are sorry to hear that in which country are you located]; a : [very good to have a chance to be in the city for the future]\n",
      "q : [im scared it wont look good with my skin tone ]; a : [oh my god ]\n",
      "q : [when i saw drake perform one dance and unk my tears and my a hit them leather unk seats]; a : [lol i feel like the same thing i was in the same mood ]\n",
      "q : [i dont know about you but im feeling 22 ]; a : [yes the best of the best]\n",
      "q : [thats great to hear  unk x]; a : [you guys are so excited to hear it]\n",
      "q : [was his mic in fact not unk right]; a : [i dont think its a good thing to be a fan of the planet]\n",
      "q : [love it for record its not the slight its the unk journalism and bizarre priorities]; a : [the whole thing is the worst of the planet]\n",
      "q : [this is a great interview with unk]; a : [this is a great photo]\n",
      "q : [my morning has been ruined without]; a : [just like it was a good time]\n",
      "q : [happy birthday unk be smooth out here man ]; a : [thanks bro ]\n",
      "q : [you ever met someone who you love to pieces but also hate]; a : [definitely as i did it was a good time to get a good time]\n",
      "q : [who wanna give me bday top]; a : [lol im in the bay ]\n",
      "q : [im not saying this was my plan but this was my plan]; a : [if you was a joke of the internet]\n",
      "q : [a childs zip code is still the greatest unk of success]; a : [not sure its a good thing]\n",
      "q : [carson wentz only 5th rookie qb in last 46 years to start a season 20]; a : [when happened to bed]\n",
      "q : [i chose a song unk out of my range for having a sore throat]; a : [literally this one]\n",
      "q : [tonight we celebrate ]; a : [yay        ]\n",
      "q : [so bad the burning man guy was the worst]; a : [its not even the same thing]\n",
      "q : [donald trump says hillary clinton should be blamed for everything]; a : [what a loser]\n",
      "q : [you are an internet unk daily so that makes sense]; a : [i dont know what you think]\n",
      "q : [you know my unk life has been out for two years]; a : [the whole season is the best thing ive ever seen]\n",
      "q : [get 3 free tickets to 2017 in new orleans]; a : [ thanks for the update ]\n",
      "q : [see this recipe for russian unk ball soup calls for several garlic unk]; a : [ he is a big guy]\n",
      "q : [my nigga if she cant cook and you cheat with a chick that can it aint cheating its unk]; a : [thats not a good thing]\n",
      "q : [unk is another one of my daddy such a hot beautiful on that one]; a : [this is so cute]\n",
      "q : [yeah well what do you know]; a : [i dont know what to do with this]\n",
      "q : [rappers unk about social media is unk]; a : [i know right but i dont know what to say]\n",
      "q : [its okay sometimes i like to go back and delete a bunch of tweets that didnt get any favs]; a : [lmao i dont know what i feel about it i dont even know how to do]\n",
      "q : [i have a unk and masters degree from public unk in us shoots that theory down]; a : [you are a racist and a woman who is a disgrace to the united states]\n",
      "q : [there still is hope let me in the second debate]; a : [not there  i have a great time]\n",
      "q : [i am making this tomorrow perfect fall bowl of unk thx]; a : [wait what is this]\n",
      "q : [some of those people look familiar ]; a : [is the best thing ive seen it]\n",
      "q : [ the internet i accidentally unk my husband his name is tony]; a : [do you have a good job]\n",
      "q : [unk missed out on the hour]; a : [what is this]\n",
      "q : [hi guys im about to go live now on  join the discussion]; a : [if you are going to be in the city in the middle of the year]\n",
      "q : [i had cheese for the first time in over two months today forgot how much i unk it]; a : [what a great game]\n",
      "q : [who told hillary clinton to keep smiling like shes at her unk birthday party]; a : [is a real person who is a liar of her campaign]\n",
      "q : [how brought up the fact that unk hit my line one time but why still confused 4 yrs later]; a : [it was a joke but i was just thinking about it]\n",
      "q : [my oh my  the unk unk next to the childrens hospital table]; a : [did you have a new phone]\n",
      "q : [love comics like we do were growing the again looking for a social media amp community manager unk]; a : [we are a great experience to connect with our website and we have a great day]\n",
      "q : [dude in the uber pool unk real game to the girl in this uber pool rn]; a : [thats a joke]\n",
      "q : [original caption was gonna be engaged in some light pup play this weekend]; a : [nice looking forward to the game of the game]\n",
      "q : [bring all your fire unk out]; a : [yes i have a good time]\n",
      "q : [remember when we used to document stuff  like make tech unk i miss those days]; a : [you need to get a ticket with my phone]\n",
      "q : [the answer much like our relationship with google appears to be its complicated ]; a : [the only thing is there is a new one]\n",
      "q : [i dont have a problem w moderators being tough but gave hillary a total pass and attacked trump f]; a : [agreed you are not a racist and a woman who has a lot of people in the world]\n",
      "q : [i barely eat lol i wont eat until unk ]; a : [i feel like you get a new one ]\n",
      "q : [this is my favorite thing the bullpen has me laughing so hard in this photo]; a : [this is my favorite thing ever ]\n",
      "q : [getting unk thrown my way ]; a : [i have to be a fan of my life ]\n",
      "q : [did you not know it was on there should have tried to go would have been class]; a : [i was just thinking about it but i was just thinking about it]\n",
      "q : [you bout to inspire me lmaooooo]; a : [you should be a little bit ]\n",
      "q : [this alicia machado speaks so unk its like hearing angels sing role model]; a : [i was thinking of her]\n",
      "q : [you always sound like a new yorker]; a : [but i dont know what to do that]\n",
      "q : [youll be made fun of this is unk]; a : [you are so good]\n",
      "q : [ffs there are two ls in hillary]; a : [are you going to be a case of the debate]\n",
      "q : [if youre ever having trouble sleeping just listen to unk city so freakin unk]; a : [the first one]\n",
      "q : [someone should come in clutch and do my unk paper for me]; a : [sounds like my favorite is a little bit]\n",
      "q : [im glad to here that ]; a : [ we know what to do]\n",
      "q : [only 45 days to go hunter]; a : [is this a new thing]\n",
      "q : [sorry im not a white supremacist but why should there be empathy for those who break the law many times]; a : [because they have a gun with the internet]\n",
      "q : [currently accepting donations ]; a : [i need to get a new one]\n",
      "q : [i want to retweet some furry shit but i dont want my unk followers to think im gross fuck]; a : [you should be a fan of the game]\n",
      "q : [im freaking out i dont want that man near the white house]; a : [literally like you dont have to be a fucking one]\n",
      "q : [i imagine eventually well get people streaming on twitch that refuse to learn how it unk]; a : [there is a good idea of the internet]\n",
      "q : [sis if my lip dont go down im not going ]; a : [ill be there ]\n",
      "q : [i like you we should get together for wine or coffee and talk one of these days ]; a : [its a good thing]\n",
      "q : [but it does show that trump has more enthusiasm among his voters]; a : [it is a joke]\n",
      "q : [nice i will be seeing you at the signing oct 22 in san unk cant wait to meet you]; a : [yes i will be there for the next week ]\n",
      "q : [please read this as a white dad of a black son this unk with me thank you]; a : [its not even that]\n",
      "q : [hillary is the freedom removing candidate as immigration picks up she wont need your vote anymore unk get a unk]; a : [and you are not voting for her]\n",
      "q : [but i thought you told me i wasnt shit ]; a : [bitch you know what you want to be]\n",
      "q : [creepy clowns in the woods under investigation in nj town]; a : [the world is a disgrace to the bottom]\n",
      "q : [thanks for checking in on  unk what did you order]; a : [my pleasure and a great day]\n",
      "q : [but you caught up right right]; a : [no way to be a little fan but i dont know what to do]\n",
      "q : [thats unk petty lmao]; a : [she was so mad lol]\n",
      "q : [what year is considered the last of unk then ]; a : [the whole time is a good thing to the game]\n",
      "q : [its alive rn]; a : [i know its a good one]\n",
      "q : [yeah same i guess they should just send me a code early to stop me from unk ]; a : [haha i feel that i just got a new phone of my life and i dont know how to do]\n",
      "q : [remember how close you were to scoring at bc ]; a : [im in my home place ]\n",
      "q : [goodnight amp god bless]; a : [have a good saturday ]\n",
      "q : [this a lie lmao]; a : [she is a lot of people who have a lot of people in the middle of the world]\n",
      "q : [unk unk ghost hurt tho bad ]; a : [i was thinking of the same time]\n",
      "q : [i have a build with unk that looks like it got past pod install]; a : [not sure the same thing is in the city of the world of the world]\n",
      "q : [i could listen to talk all day]; a : [i love this]\n",
      "q : [gorgeous costume who did it nice unk too btw]; a : [the defense of the game was a lot of the game]\n",
      "q : [im not working unk listening to talk about remote working]; a : [ this is a hoax for]\n",
      "q : [ same here debates work and nfl all at once good thing is live streaming]; a : [and i have to be a fan of the same side of the day]\n",
      "q : [im a sea cow]; a : [i was thinking the same thing]\n"
     ]
    }
   ],
   "source": [
    "replies = []\n",
    "for ii, oi in zip(input_.T, output):\n",
    "    q = data_utils.decode(sequence=ii, lookup=metadata['idx2w'], separator=' ')\n",
    "    decoded = data_utils.decode(sequence=oi, lookup=metadata['idx2w'], separator=' ').split(' ')\n",
    "    if decoded.count('unk') == 0:\n",
    "        if decoded not in replies:\n",
    "            print('q : [{0}]; a : [{1}]'.format(q, ' '.join(decoded)))\n",
    "            replies.append(decoded)"
   ]
  },
  {
   "cell_type": "code",
   "execution_count": 7,
   "metadata": {},
   "outputs": [
    {
     "name": "stdout",
     "output_type": "stream",
     "text": [
      "1.4.0\n"
     ]
    }
   ],
   "source": [
    "import tensorflow as tf; print(tf.VERSION)"
   ]
  },
  {
   "cell_type": "code",
   "execution_count": null,
   "metadata": {
    "collapsed": true
   },
   "outputs": [],
   "source": []
  },
  {
   "cell_type": "code",
   "execution_count": null,
   "metadata": {
    "collapsed": true
   },
   "outputs": [],
   "source": []
  },
  {
   "cell_type": "code",
   "execution_count": null,
   "metadata": {
    "collapsed": true
   },
   "outputs": [],
   "source": []
  },
  {
   "cell_type": "code",
   "execution_count": null,
   "metadata": {
    "collapsed": true
   },
   "outputs": [],
   "source": []
  },
  {
   "cell_type": "code",
   "execution_count": null,
   "metadata": {
    "collapsed": true
   },
   "outputs": [],
   "source": []
  }
 ],
 "metadata": {
  "kernelspec": {
   "display_name": "Python 3",
   "language": "python",
   "name": "python3"
  },
  "language_info": {
   "codemirror_mode": {
    "name": "ipython",
    "version": 3
   },
   "file_extension": ".py",
   "mimetype": "text/x-python",
   "name": "python",
   "nbconvert_exporter": "python",
   "pygments_lexer": "ipython3",
   "version": "3.6.3"
  }
 },
 "nbformat": 4,
 "nbformat_minor": 1
}
